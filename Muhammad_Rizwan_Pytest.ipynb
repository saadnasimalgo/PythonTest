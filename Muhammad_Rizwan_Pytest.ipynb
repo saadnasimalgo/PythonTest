{
 "cells": [
  {
   "cell_type": "code",
   "execution_count": 1,
   "metadata": {},
   "outputs": [],
   "source": [
    "import json\n",
    "import random"
   ]
  },
  {
   "cell_type": "code",
   "execution_count": 2,
   "metadata": {},
   "outputs": [
    {
     "name": "stdout",
     "output_type": "stream",
     "text": [
      "parse_commands:  [{'function': 'parse', 'help': 'file help', 'value': 'file'}]\n",
      "copy_commands:  [{'function': 'copy', 'help': 'copy help', 'value': 'file'}]\n",
      "functional_commands:  [{'function': 'parse', 'help': 'file help', 'value': 'file', '_list': 'parse', '_counter': 1}, {'function': 'copy', 'help': 'copy help', 'value': 'file', '_list': 'copy', '_counter': 1}]\n",
      "random_commands:  [{'function': 'run', 'help': 'execute help', 'value': 'execute'}, {'function': 'parse', 'help': 'file help', 'value': 'file'}]\n"
     ]
    }
   ],
   "source": [
    "# Get all the parse commands\n",
    "def get_par_comm() -> dict:\n",
    "    with open('data.txt', 'r') as file:\n",
    "        data = json.loads(file.read())\n",
    "    return [row.copy() for row in data if 'function' in row and row['function'] == 'parse']\n",
    "\n",
    "# Get all the copy commands\n",
    "def get_copy_comm() -> dict:\n",
    "    with open('data.txt', 'r') as file:\n",
    "        data = json.loads(file.read())\n",
    "    return [row.copy() for row in data if 'function' in row and row['function'] == 'copy' ]\n",
    "\n",
    "# Put the two lists together and say which list it came from as well as the item number for that list\n",
    "def func_commands(parse_comm, copy_comm) -> dict:\n",
    "    functional_commands = []\n",
    "    counter = 0\n",
    "    for row in parse_commands:\n",
    "        counter += 1\n",
    "        new_row = row.copy()\n",
    "        new_row['_list'] = 'parse'\n",
    "        new_row['_counter'] = counter\n",
    "        functional_commands.append(new_row)\n",
    "    counter = 0\n",
    "    for row in copy_commands:\n",
    "        counter += 1\n",
    "        new_row = row.copy()\n",
    "        new_row['_list'] = 'copy'\n",
    "        new_row['_counter'] = counter\n",
    "        functional_commands.append(new_row)\n",
    "    return functional_commands\n",
    "\n",
    "# Get random sampling of data\n",
    "def get_random_data() -> dict:\n",
    "    random_commands = []\n",
    "    with open('data.txt', 'r') as file:\n",
    "        data = json.loads(file.read())\n",
    "        random_commands = random.sample(data, 2)\n",
    "    return random_commands\n",
    "\n",
    "if __name__ == '__main__':\n",
    "    \n",
    "    parse_commands, copy_commands = get_par_comm(), get_copy_comm()\n",
    "    functional_commands = func_commands(parse_commands, copy_commands)\n",
    "    random_commands = get_random_data()\n",
    "\n",
    "    assert parse_commands == [{'function': 'parse', 'help': 'file help', 'value': 'file'}]\n",
    "    print(\"parse_commands: \", parse_commands)\n",
    "    assert copy_commands == [{'function': 'copy', 'help': 'copy help', 'value': 'file'}]\n",
    "    print(\"copy_commands: \", copy_commands)\n",
    "    assert functional_commands == [{'function': 'parse', 'help': 'file help', 'value': 'file', '_list': 'parse', '_counter': 1}, {'function': 'copy', 'help': 'copy help', 'value': 'file', '_list': 'copy', '_counter': 1}]\n",
    "    print(\"functional_commands: \", functional_commands)\n",
    "    assert len(random_commands) == 2\n",
    "    print(\"random_commands: \", random_commands)"
   ]
  },
  {
   "cell_type": "code",
   "execution_count": null,
   "metadata": {},
   "outputs": [],
   "source": []
  },
  {
   "cell_type": "code",
   "execution_count": 3,
   "metadata": {},
   "outputs": [
    {
     "name": "stdout",
     "output_type": "stream",
     "text": [
      "parse_commands:  [{'function': 'parse', 'help': 'file help', 'value': 'file'}]\n",
      "copy_commands:  [{'function': 'copy', 'help': 'copy help', 'value': 'file'}]\n",
      "functional_commands:  [{'function': 'parse', 'help': 'file help', 'value': 'file', '_list': 'parse', '_counter': 1}, {'function': 'copy', 'help': 'copy help', 'value': 'file', '_list': 'copy', '_counter': 1}]\n",
      "random_commands:  [{'function': 'parse', 'help': 'file help', 'value': 'file'}, {'value': 'bad value'}]\n"
     ]
    }
   ],
   "source": [
    "if __name__ == '__main__':\n",
    "    \n",
    "    parse_commands, copy_commands = get_par_comm(), get_copy_comm()\n",
    "    functional_commands = func_commands(None, copy_commands)\n",
    "    random_commands = get_random_data()\n",
    "\n",
    "    assert parse_commands == [{'function': 'parse', 'help': 'file help', 'value': 'file'}]\n",
    "    print(\"parse_commands: \", parse_commands)\n",
    "    assert copy_commands == [{'function': 'copy', 'help': 'copy help', 'value': 'file'}]\n",
    "    print(\"copy_commands: \", copy_commands)\n",
    "    assert functional_commands == [{'function': 'parse', 'help': 'file help', 'value': 'file', '_list': 'parse', '_counter': 1}, {'function': 'copy', 'help': 'copy help', 'value': 'file', '_list': 'copy', '_counter': 1}]\n",
    "    print(\"functional_commands: \", functional_commands)\n",
    "    assert len(random_commands) == 2\n",
    "    print(\"random_commands: \", random_commands)"
   ]
  },
  {
   "cell_type": "code",
   "execution_count": null,
   "metadata": {},
   "outputs": [],
   "source": []
  },
  {
   "cell_type": "code",
   "execution_count": 4,
   "metadata": {},
   "outputs": [
    {
     "name": "stdout",
     "output_type": "stream",
     "text": [
      "parse_commands:  [{'function': 'parse', 'help': 'file help', 'value': 'file'}]\n",
      "copy_commands:  [{'function': 'copy', 'help': 'copy help', 'value': 'file'}]\n",
      "functional_commands:  [{'function': 'parse', 'help': 'file help', 'value': 'file', '_list': 'parse', '_counter': 1}, {'function': 'copy', 'help': 'copy help', 'value': 'file', '_list': 'copy', '_counter': 1}]\n",
      "random_commands:  [{'function': 'run', 'help': 'command help', 'value': 'command'}, {'function': 'copy', 'help': 'copy help', 'value': 'file'}]\n"
     ]
    }
   ],
   "source": [
    "if __name__ == '__main__':\n",
    "    \n",
    "    parse_commands, copy_commands = get_par_comm(), get_copy_comm()\n",
    "    functional_commands = func_commands(None, int)\n",
    "    random_commands = get_random_data()\n",
    "\n",
    "    assert parse_commands == [{'function': 'parse', 'help': 'file help', 'value': 'file'}]\n",
    "    print(\"parse_commands: \", parse_commands)\n",
    "    assert copy_commands == [{'function': 'copy', 'help': 'copy help', 'value': 'file'}]\n",
    "    print(\"copy_commands: \", copy_commands)\n",
    "    assert functional_commands == [{'function': 'parse', 'help': 'file help', 'value': 'file', '_list': 'parse', '_counter': 1}, {'function': 'copy', 'help': 'copy help', 'value': 'file', '_list': 'copy', '_counter': 1}]\n",
    "    print(\"functional_commands: \", functional_commands)\n",
    "    assert len(random_commands) == 2\n",
    "    print(\"random_commands: \", random_commands)"
   ]
  },
  {
   "cell_type": "code",
   "execution_count": null,
   "metadata": {},
   "outputs": [],
   "source": []
  },
  {
   "cell_type": "code",
   "execution_count": 5,
   "metadata": {},
   "outputs": [
    {
     "data": {
      "text/plain": [
       "'C:\\\\Users\\\\Rizwan\\\\Desktop\\\\NewTest\\\\python-test.1.2\\\\python-test'"
      ]
     },
     "execution_count": 5,
     "metadata": {},
     "output_type": "execute_result"
    }
   ],
   "source": [
    "pwd"
   ]
  }
 ],
 "metadata": {
  "kernelspec": {
   "display_name": "Python 3",
   "language": "python",
   "name": "python3"
  },
  "language_info": {
   "codemirror_mode": {
    "name": "ipython",
    "version": 3
   },
   "file_extension": ".py",
   "mimetype": "text/x-python",
   "name": "python",
   "nbconvert_exporter": "python",
   "pygments_lexer": "ipython3",
   "version": "3.8.3"
  }
 },
 "nbformat": 4,
 "nbformat_minor": 4
}
